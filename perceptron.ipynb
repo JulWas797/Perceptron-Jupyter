{
 "cells": [
  {
   "cell_type": "markdown",
   "source": [
    "# Import the required libraries.\n",
    "\n",
    "- Pandas is used for loading datasets\n",
    "- Numpy is a library designed to provide fast, optimized numerical operations in Python\n",
    "- MatPlotLib adds a nice façade for plotting."
   ],
   "metadata": {
    "collapsed": false
   }
  },
  {
   "cell_type": "code",
   "execution_count": 644,
   "metadata": {
    "collapsed": true,
    "ExecuteTime": {
     "start_time": "2023-07-06T23:24:48.510273Z",
     "end_time": "2023-07-06T23:24:48.529800Z"
    }
   },
   "outputs": [],
   "source": [
    "import pandas as pd\n",
    "import numpy as np\n",
    "import matplotlib.pyplot as plt"
   ]
  },
  {
   "cell_type": "markdown",
   "source": [
    "# First step is to load the dataset\n",
    "\n",
    "I've made total of three dataset to demonstrate Rosenblatt's perceptron and it's capabilities.\n",
    "```AND_GATE.csv``` and ```OR_GATE.csv``` both contain standard linear data, while ```XOR_GATE.csv``` is used to demonstrate the XOR gate problem, and the behavior of the single-layer (linear) perceptron with non-standard data that cannot be classified a linear way."
   ],
   "metadata": {
    "collapsed": false
   }
  },
  {
   "cell_type": "code",
   "execution_count": 645,
   "outputs": [],
   "source": [
    "df = pd.read_csv(\"https://raw.githubusercontent.com/JulWas797/Perceptron-Jupyter/main/OR_GATE.csv\")"
   ],
   "metadata": {
    "collapsed": false,
    "ExecuteTime": {
     "start_time": "2023-07-06T23:24:48.512774Z",
     "end_time": "2023-07-06T23:24:48.536780Z"
    }
   }
  },
  {
   "cell_type": "markdown",
   "source": [
    "# Next step is variable definition\n",
    "\n",
    "- Learning rate, e.g. the adjustment made while learning. More details can be found [here](https://en.wikipedia.org/wiki/Delta_rule)\n",
    "- Weights, the relative importance that is assigned into a specified input\n",
    "- Bias, the const. value that is injected into the sum, to help prevent errors. More details (including a nice chart) can be found [here](https://www.researchgate.net/publication/327392288/figure/fig1/AS:666616886984704@1535945259693/The-graph-of-a-perceptron-x1-xm-are-input-signals-w1-wm-are-the-weights.png)\n",
    "- Epochs, the number of time the training process will be run (iteration count)"
   ],
   "metadata": {
    "collapsed": false
   }
  },
  {
   "cell_type": "code",
   "execution_count": 646,
   "outputs": [],
   "source": [
    "learningRate = 0.003\n",
    "weights = [0, 0]\n",
    "bias = 0\n",
    "epochs = 100"
   ],
   "metadata": {
    "collapsed": false,
    "ExecuteTime": {
     "start_time": "2023-07-06T23:24:48.518316Z",
     "end_time": "2023-07-06T23:24:48.536780Z"
    }
   }
  },
  {
   "cell_type": "markdown",
   "source": [
    "# Here we define the activation function that we will use for learning.\n",
    "\n",
    "I've decided to use a standard Heaviside step, but you can try other functions, that have been commented."
   ],
   "metadata": {
    "collapsed": false
   }
  },
  {
   "cell_type": "code",
   "execution_count": 647,
   "outputs": [],
   "source": [
    "def activation(val):\n",
    "    return 1 if val >= 0 else 0 # Heaviside\n",
    "#   return val # Linear\n",
    "#   return 1 / (1 + np.exp(-val)) # Sigmoid\n",
    "#   return max(0, val) # RelU\n",
    "#   return val if val >= 0 else 0.01 * val # Leaky RelU"
   ],
   "metadata": {
    "collapsed": false,
    "ExecuteTime": {
     "start_time": "2023-07-06T23:24:48.524306Z",
     "end_time": "2023-07-06T23:24:48.536780Z"
    }
   }
  },
  {
   "cell_type": "markdown",
   "source": [
    "# Now, we need to add the core code for the learning algorithm.\n",
    "\n",
    "You can find a valuable information on how it works [on the Toronto University ML Lecture no. 3](https://www.cs.toronto.edu/~hinton/coursera/lecture3/lec3.pdf)"
   ],
   "metadata": {
    "collapsed": false
   }
  },
  {
   "cell_type": "code",
   "execution_count": 648,
   "outputs": [
    {
     "name": "stdout",
     "output_type": "stream",
     "text": [
      "Epoch 0 | Correct guesses: 2, Incorrect guesses: 2\n",
      "Epoch 1 | Correct guesses: 2, Incorrect guesses: 2\n",
      "Epoch 2 | Correct guesses: 3, Incorrect guesses: 1\n",
      "Epoch 3 | Correct guesses: 4, Incorrect guesses: 0\n",
      "Epoch 4 | Correct guesses: 4, Incorrect guesses: 0\n",
      "Epoch 5 | Correct guesses: 4, Incorrect guesses: 0\n",
      "Epoch 6 | Correct guesses: 4, Incorrect guesses: 0\n",
      "Epoch 7 | Correct guesses: 4, Incorrect guesses: 0\n",
      "Epoch 8 | Correct guesses: 4, Incorrect guesses: 0\n",
      "Epoch 9 | Correct guesses: 4, Incorrect guesses: 0\n",
      "Epoch 10 | Correct guesses: 4, Incorrect guesses: 0\n",
      "Epoch 11 | Correct guesses: 4, Incorrect guesses: 0\n",
      "Epoch 12 | Correct guesses: 4, Incorrect guesses: 0\n",
      "Epoch 13 | Correct guesses: 4, Incorrect guesses: 0\n",
      "Epoch 14 | Correct guesses: 4, Incorrect guesses: 0\n",
      "Epoch 15 | Correct guesses: 4, Incorrect guesses: 0\n",
      "Epoch 16 | Correct guesses: 4, Incorrect guesses: 0\n",
      "Epoch 17 | Correct guesses: 4, Incorrect guesses: 0\n",
      "Epoch 18 | Correct guesses: 4, Incorrect guesses: 0\n",
      "Epoch 19 | Correct guesses: 4, Incorrect guesses: 0\n",
      "Epoch 20 | Correct guesses: 4, Incorrect guesses: 0\n",
      "Epoch 21 | Correct guesses: 4, Incorrect guesses: 0\n",
      "Epoch 22 | Correct guesses: 4, Incorrect guesses: 0\n",
      "Epoch 23 | Correct guesses: 4, Incorrect guesses: 0\n",
      "Epoch 24 | Correct guesses: 4, Incorrect guesses: 0\n",
      "Epoch 25 | Correct guesses: 4, Incorrect guesses: 0\n",
      "Epoch 26 | Correct guesses: 4, Incorrect guesses: 0\n",
      "Epoch 27 | Correct guesses: 4, Incorrect guesses: 0\n",
      "Epoch 28 | Correct guesses: 4, Incorrect guesses: 0\n",
      "Epoch 29 | Correct guesses: 4, Incorrect guesses: 0\n",
      "Epoch 30 | Correct guesses: 4, Incorrect guesses: 0\n",
      "Epoch 31 | Correct guesses: 4, Incorrect guesses: 0\n",
      "Epoch 32 | Correct guesses: 4, Incorrect guesses: 0\n",
      "Epoch 33 | Correct guesses: 4, Incorrect guesses: 0\n",
      "Epoch 34 | Correct guesses: 4, Incorrect guesses: 0\n",
      "Epoch 35 | Correct guesses: 4, Incorrect guesses: 0\n",
      "Epoch 36 | Correct guesses: 4, Incorrect guesses: 0\n",
      "Epoch 37 | Correct guesses: 4, Incorrect guesses: 0\n",
      "Epoch 38 | Correct guesses: 4, Incorrect guesses: 0\n",
      "Epoch 39 | Correct guesses: 4, Incorrect guesses: 0\n",
      "Epoch 40 | Correct guesses: 4, Incorrect guesses: 0\n",
      "Epoch 41 | Correct guesses: 4, Incorrect guesses: 0\n",
      "Epoch 42 | Correct guesses: 4, Incorrect guesses: 0\n",
      "Epoch 43 | Correct guesses: 4, Incorrect guesses: 0\n",
      "Epoch 44 | Correct guesses: 4, Incorrect guesses: 0\n",
      "Epoch 45 | Correct guesses: 4, Incorrect guesses: 0\n",
      "Epoch 46 | Correct guesses: 4, Incorrect guesses: 0\n",
      "Epoch 47 | Correct guesses: 4, Incorrect guesses: 0\n",
      "Epoch 48 | Correct guesses: 4, Incorrect guesses: 0\n",
      "Epoch 49 | Correct guesses: 4, Incorrect guesses: 0\n",
      "Epoch 50 | Correct guesses: 4, Incorrect guesses: 0\n",
      "Epoch 51 | Correct guesses: 4, Incorrect guesses: 0\n",
      "Epoch 52 | Correct guesses: 4, Incorrect guesses: 0\n",
      "Epoch 53 | Correct guesses: 4, Incorrect guesses: 0\n",
      "Epoch 54 | Correct guesses: 4, Incorrect guesses: 0\n",
      "Epoch 55 | Correct guesses: 4, Incorrect guesses: 0\n",
      "Epoch 56 | Correct guesses: 4, Incorrect guesses: 0\n",
      "Epoch 57 | Correct guesses: 4, Incorrect guesses: 0\n",
      "Epoch 58 | Correct guesses: 4, Incorrect guesses: 0\n",
      "Epoch 59 | Correct guesses: 4, Incorrect guesses: 0\n",
      "Epoch 60 | Correct guesses: 4, Incorrect guesses: 0\n",
      "Epoch 61 | Correct guesses: 4, Incorrect guesses: 0\n",
      "Epoch 62 | Correct guesses: 4, Incorrect guesses: 0\n",
      "Epoch 63 | Correct guesses: 4, Incorrect guesses: 0\n",
      "Epoch 64 | Correct guesses: 4, Incorrect guesses: 0\n",
      "Epoch 65 | Correct guesses: 4, Incorrect guesses: 0\n",
      "Epoch 66 | Correct guesses: 4, Incorrect guesses: 0\n",
      "Epoch 67 | Correct guesses: 4, Incorrect guesses: 0\n",
      "Epoch 68 | Correct guesses: 4, Incorrect guesses: 0\n",
      "Epoch 69 | Correct guesses: 4, Incorrect guesses: 0\n",
      "Epoch 70 | Correct guesses: 4, Incorrect guesses: 0\n",
      "Epoch 71 | Correct guesses: 4, Incorrect guesses: 0\n",
      "Epoch 72 | Correct guesses: 4, Incorrect guesses: 0\n",
      "Epoch 73 | Correct guesses: 4, Incorrect guesses: 0\n",
      "Epoch 74 | Correct guesses: 4, Incorrect guesses: 0\n",
      "Epoch 75 | Correct guesses: 4, Incorrect guesses: 0\n",
      "Epoch 76 | Correct guesses: 4, Incorrect guesses: 0\n",
      "Epoch 77 | Correct guesses: 4, Incorrect guesses: 0\n",
      "Epoch 78 | Correct guesses: 4, Incorrect guesses: 0\n",
      "Epoch 79 | Correct guesses: 4, Incorrect guesses: 0\n",
      "Epoch 80 | Correct guesses: 4, Incorrect guesses: 0\n",
      "Epoch 81 | Correct guesses: 4, Incorrect guesses: 0\n",
      "Epoch 82 | Correct guesses: 4, Incorrect guesses: 0\n",
      "Epoch 83 | Correct guesses: 4, Incorrect guesses: 0\n",
      "Epoch 84 | Correct guesses: 4, Incorrect guesses: 0\n",
      "Epoch 85 | Correct guesses: 4, Incorrect guesses: 0\n",
      "Epoch 86 | Correct guesses: 4, Incorrect guesses: 0\n",
      "Epoch 87 | Correct guesses: 4, Incorrect guesses: 0\n",
      "Epoch 88 | Correct guesses: 4, Incorrect guesses: 0\n",
      "Epoch 89 | Correct guesses: 4, Incorrect guesses: 0\n",
      "Epoch 90 | Correct guesses: 4, Incorrect guesses: 0\n",
      "Epoch 91 | Correct guesses: 4, Incorrect guesses: 0\n",
      "Epoch 92 | Correct guesses: 4, Incorrect guesses: 0\n",
      "Epoch 93 | Correct guesses: 4, Incorrect guesses: 0\n",
      "Epoch 94 | Correct guesses: 4, Incorrect guesses: 0\n",
      "Epoch 95 | Correct guesses: 4, Incorrect guesses: 0\n",
      "Epoch 96 | Correct guesses: 4, Incorrect guesses: 0\n",
      "Epoch 97 | Correct guesses: 4, Incorrect guesses: 0\n",
      "Epoch 98 | Correct guesses: 4, Incorrect guesses: 0\n",
      "Epoch 99 | Correct guesses: 4, Incorrect guesses: 0\n"
     ]
    }
   ],
   "source": [
    "for i in range(epochs):\n",
    "    correct, incorrect = 0, 0\n",
    "    for index, row in df.iterrows():\n",
    "        predicted = bias\n",
    "        for j in range(2):\n",
    "            predicted += row[j] * weights[j]\n",
    "        error = row[\"expected\"] - activation(predicted)\n",
    "        if error == 0:\n",
    "            correct+=1\n",
    "        else:\n",
    "            incorrect+=1\n",
    "        for j in range(2):\n",
    "            weights[j] += learningRate * error * row[j]\n",
    "        bias += error * learningRate\n",
    "    print(\"Epoch {} | Correct guesses: {}, Incorrect guesses: {}\".format(i, correct, incorrect))"
   ],
   "metadata": {
    "collapsed": false,
    "ExecuteTime": {
     "start_time": "2023-07-06T23:24:48.528802Z",
     "end_time": "2023-07-06T23:24:48.558041Z"
    }
   }
  },
  {
   "cell_type": "markdown",
   "source": [
    "# After this, we plot the output\n",
    "\n",
    "Now, let's take first input as x-axis, and the second as the y-axis."
   ],
   "metadata": {
    "collapsed": false
   }
  },
  {
   "cell_type": "code",
   "execution_count": 649,
   "outputs": [
    {
     "data": {
      "text/plain": "<Figure size 640x480 with 1 Axes>",
      "image/png": "[encoded data removed]"
     },
     "metadata": {},
     "output_type": "display_data"
    }
   ],
   "source": [
    "x = np.linspace(-1, 2, 100)\n",
    "y = -(weights[0] * x + bias) / weights[1]\n",
    "plt.plot(x, y)\n",
    "plt.fill_between(x, y, 2, color='r', alpha=0.1)\n",
    "plt.fill_between(x, y, -1, color='b', alpha=0.1)\n",
    "for _, row in df.iterrows():\n",
    "    px, py = row[\"input1\"], row[\"input2\"]\n",
    "    point = \"or\" if row[\"expected\"] == 1 else \"ob\"\n",
    "    plt.plot(px, py, point)\n",
    "plt.subplots_adjust(left=-1, right=2, bottom=-1, top=2)\n",
    "plt.tight_layout()"
   ],
   "metadata": {
    "collapsed": false,
    "ExecuteTime": {
     "start_time": "2023-07-06T23:24:48.552549Z",
     "end_time": "2023-07-06T23:24:48.698972Z"
    }
   }
  }
 ],
 "metadata": {
  "kernelspec": {
   "display_name": "Python 3",
   "language": "python",
   "name": "python3"
  },
  "language_info": {
   "codemirror_mode": {
    "name": "ipython",
    "version": 2
   },
   "file_extension": ".py",
   "mimetype": "text/x-python",
   "name": "python",
   "nbconvert_exporter": "python",
   "pygments_lexer": "ipython2",
   "version": "2.7.6"
  }
 },
 "nbformat": 4,
 "nbformat_minor": 0
}
